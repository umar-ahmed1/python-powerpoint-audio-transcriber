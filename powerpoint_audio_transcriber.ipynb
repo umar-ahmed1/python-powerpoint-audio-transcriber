{
 "cells": [
  {
   "cell_type": "code",
   "execution_count": 1,
   "metadata": {},
   "outputs": [],
   "source": [
    "import aspose.slides as slides\n",
    "import os\n",
    "import shutil\n",
    "from pydub import AudioSegment\n",
    "import whisper\n",
    "from reportlab.lib.pagesizes import letter\n",
    "from reportlab.pdfgen import canvas\n",
    "from reportlab.lib import colors\n",
    "from reportlab.lib.styles import getSampleStyleSheet, ParagraphStyle\n",
    "from reportlab.platypus import SimpleDocTemplate, Paragraph, Spacer\n",
    "\n",
    "AudioSegment.converter = \"C:\\\\PATH_Programs\\\\ffmpeg.exe\"\n",
    "AudioSegment.ffmpeg = \"C:\\\\PATH_Programs\\\\ffmpeg.exe\"\n",
    "AudioSegment.ffprobe =\"C:\\\\PATH_Programs\\\\ffprobe.exe\""
   ]
  },
  {
   "cell_type": "code",
   "execution_count": 2,
   "metadata": {},
   "outputs": [],
   "source": [
    "output_folder = \"audio_files\"\n",
    "\n",
    "# Delete the output folder if it exists so it empties\n",
    "if os.path.exists(output_folder):\n",
    "    shutil.rmtree(output_folder)\n",
    "\n",
    "# Create the output folder if it doesn't exist (should run everytime)\n",
    "if not os.path.exists(output_folder):\n",
    "    os.makedirs(output_folder)"
   ]
  },
  {
   "cell_type": "code",
   "execution_count": 3,
   "metadata": {},
   "outputs": [],
   "source": [
    "#input powerpoint presentation name\n",
    "presentation_name = \"presentations/INSERTNAMEHERE.pptx\"\n",
    "parts = presentation_name.split('.')\n",
    "part_without_extension = parts[0]\n",
    "final_name = part_without_extension + \".pdf\""
   ]
  },
  {
   "cell_type": "code",
   "execution_count": 4,
   "metadata": {},
   "outputs": [],
   "source": [
    "from aspose.slides import AudioFrame\n",
    "\n",
    "with slides.Presentation(presentation_name) as presentation:\n",
    "    for index, audio in enumerate(presentation.audios):\n",
    "        audio_data = audio.binary_data\n",
    "        content_type = audio.content_type\n",
    "        file_extension = content_type.split(\"/\")[-1]  # Get the file extension from content type\n",
    "        \n",
    "        # Construct the file name\n",
    "        file_name = f\"audio_{index + 1}.{file_extension}\"\n",
    "        \n",
    "        # Write the binary audio data to a file\n",
    "        with open(os.path.join(output_folder, file_name), \"wb\") as file:\n",
    "            file.write(audio_data)\n",
    "        \n",
    "        print(f\"Downloaded {file_name} to {output_folder}\")"
   ]
  },
  {
   "cell_type": "code",
   "execution_count": 6,
   "metadata": {},
   "outputs": [],
   "source": [
    "#\"tiny\" = 32x speed - worst accuracy\n",
    "#\"base\" = 16x speed - recommended\n",
    "#\"small\" = 6x speed - best accuracy\n",
    "model_type = \"small\""
   ]
  },
  {
   "cell_type": "code",
   "execution_count": 7,
   "metadata": {},
   "outputs": [],
   "source": [
    "model = whisper.load_model(model_type)\n",
    "results = []\n",
    "audio_files = [f for f in os.listdir(output_folder) if os.path.isfile(os.path.join(output_folder, f))]\n",
    "for file in audio_files:\n",
    "    result = model.transcribe(os.path.join(output_folder,file))\n",
    "    res_text = result.get(\"text\")\n",
    "    results.append(res_text)"
   ]
  },
  {
   "cell_type": "code",
   "execution_count": 8,
   "metadata": {},
   "outputs": [],
   "source": [
    "def create_pdf(results, output_file):\n",
    "    # Create a PDF document\n",
    "    doc = SimpleDocTemplate(output_file, pagesize=letter)\n",
    "\n",
    "    # Define styles for paragraphs\n",
    "    styles = getSampleStyleSheet()\n",
    "    style = styles[\"Normal\"]\n",
    "\n",
    "    # Add each result as a paragraph to the document\n",
    "    paragraphs = []\n",
    "    for result in results:\n",
    "        # Add the result as a paragraph to the document\n",
    "        p = Paragraph(result.strip(), style)\n",
    "        paragraphs.append(p)\n",
    "        \n",
    "        # Add a single line break to separate items\n",
    "        paragraphs.append(Spacer(1, 12))  # Adjust the second argument to control the spacing\n",
    "\n",
    "    # Build the PDF document\n",
    "    doc.build(paragraphs)"
   ]
  },
  {
   "cell_type": "code",
   "execution_count": 9,
   "metadata": {},
   "outputs": [
    {
     "name": "stdout",
     "output_type": "stream",
     "text": [
      "PDF created: Lecture 4_History part 1.pdf\n"
     ]
    }
   ],
   "source": [
    "output_file = final_name\n",
    "create_pdf(results, output_file)\n",
    "print(f\"PDF created: {output_file}\")"
   ]
  }
 ],
 "metadata": {
  "kernelspec": {
   "display_name": "Python 3",
   "language": "python",
   "name": "python3"
  },
  "language_info": {
   "codemirror_mode": {
    "name": "ipython",
    "version": 3
   },
   "file_extension": ".py",
   "mimetype": "text/x-python",
   "name": "python",
   "nbconvert_exporter": "python",
   "pygments_lexer": "ipython3",
   "version": "3.11.5 (tags/v3.11.5:cce6ba9, Aug 24 2023, 14:38:34) [MSC v.1936 64 bit (AMD64)]"
  },
  "orig_nbformat": 4,
  "vscode": {
   "interpreter": {
    "hash": "e469456ab50f34fb1b0d8c2f0e6be357ddfb7f89711293e9bed03b9aa9d67451"
   }
  }
 },
 "nbformat": 4,
 "nbformat_minor": 2
}
