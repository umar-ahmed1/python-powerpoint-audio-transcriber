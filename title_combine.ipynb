{
 "cells": [
  {
   "cell_type": "code",
   "execution_count": 1,
   "metadata": {},
   "outputs": [
    {
     "name": "stdout",
     "output_type": "stream",
     "text": [
      "Collecting PyPDF2\n",
      "  Obtaining dependency information for PyPDF2 from https://files.pythonhosted.org/packages/8e/5e/c86a5643653825d3c913719e788e41386bee415c2b87b4f955432f2de6b2/pypdf2-3.0.1-py3-none-any.whl.metadata\n",
      "  Downloading pypdf2-3.0.1-py3-none-any.whl.metadata (6.8 kB)\n",
      "Downloading pypdf2-3.0.1-py3-none-any.whl (232 kB)\n",
      "   ---------------------------------------- 0.0/232.6 kB ? eta -:--:--\n",
      "   - -------------------------------------- 10.2/232.6 kB ? eta -:--:--\n",
      "   ----- --------------------------------- 30.7/232.6 kB 325.1 kB/s eta 0:00:01\n",
      "   --------------- ----------------------- 92.2/232.6 kB 581.0 kB/s eta 0:00:01\n",
      "   ---------------------------------------- 232.6/232.6 kB 1.3 MB/s eta 0:00:00\n",
      "Installing collected packages: PyPDF2\n",
      "Successfully installed PyPDF2-3.0.1\n",
      "Note: you may need to restart the kernel to use updated packages.\n"
     ]
    },
    {
     "name": "stderr",
     "output_type": "stream",
     "text": [
      "\n",
      "[notice] A new release of pip is available: 23.2.1 -> 24.0\n",
      "[notice] To update, run: python.exe -m pip install --upgrade pip\n"
     ]
    }
   ],
   "source": [
    "#%pip install PyPDF2"
   ]
  },
  {
   "cell_type": "code",
   "execution_count": 30,
   "metadata": {},
   "outputs": [],
   "source": [
    "# Specify input folder containing PDF files and output file path\n",
    "input_folder = 'transcriptions'\n",
    "output_file = 'transcriptions/ANTH 303.pdf'"
   ]
  },
  {
   "cell_type": "code",
   "execution_count": 32,
   "metadata": {},
   "outputs": [
    {
     "name": "stdout",
     "output_type": "stream",
     "text": [
      "PDFs merged successfully with titles!\n"
     ]
    }
   ],
   "source": [
    "import io\n",
    "from reportlab.lib.pagesizes import letter\n",
    "from reportlab.pdfgen import canvas\n",
    "from reportlab.lib.styles import getSampleStyleSheet\n",
    "from reportlab.platypus import Paragraph\n",
    "from reportlab.lib import colors\n",
    "from reportlab.lib.units import inch\n",
    "from PyPDF2 import PdfReader, PdfWriter\n",
    "import os\n",
    "\n",
    "def create_title_page(title):\n",
    "    packet = io.BytesIO()\n",
    "    can = canvas.Canvas(packet, pagesize=letter)\n",
    "    styles = getSampleStyleSheet()\n",
    "    title_style = styles[\"Title\"]\n",
    "    title_style.fontSize = 24\n",
    "    title_style.fontName = \"Helvetica-Bold\"\n",
    "    title_text = Paragraph(title, title_style)\n",
    "    title_text.wrapOn(can, 7.5*inch, 1*inch)\n",
    "    title_text.drawOn(can, 1*inch, 10.5*inch)\n",
    "    can.showPage()\n",
    "    can.save()\n",
    "    packet.seek(0)\n",
    "    return packet\n",
    "\n",
    "def add_title_to_pdf(pdf_writer, title):\n",
    "    title_page = create_title_page(title)\n",
    "    title_pdf = PdfReader(title_page)\n",
    "    for page in title_pdf.pages:\n",
    "        pdf_writer.add_page(page)\n",
    "\n",
    "def natural_sort_key(s):\n",
    "    import re\n",
    "    return [int(text) if text.isdigit() else text.lower() for text in re.split('(\\d+)', s)]\n",
    "\n",
    "def merge_pdfs_with_titles(input_folder, output_file):\n",
    "    output = PdfWriter()\n",
    "\n",
    "    filenames = sorted(os.listdir(input_folder), key=natural_sort_key)\n",
    "    for filename in filenames:\n",
    "        if filename.endswith('.pdf'):\n",
    "            with open(os.path.join(input_folder, filename), 'rb') as file:\n",
    "                title = os.path.splitext(filename)[0]\n",
    "                add_title_to_pdf(output, title)\n",
    "\n",
    "                input_pdf = PdfReader(file)\n",
    "                for page in input_pdf.pages:\n",
    "                    output.add_page(page)\n",
    "\n",
    "    with open(output_file, 'wb') as output_stream:\n",
    "        output.write(output_stream)\n",
    "\n",
    "# Call the function to merge PDFs with titles\n",
    "merge_pdfs_with_titles(input_folder, output_file)\n",
    "\n",
    "print(\"PDFs merged successfully with titles!\")\n"
   ]
  }
 ],
 "metadata": {
  "kernelspec": {
   "display_name": "Python 3",
   "language": "python",
   "name": "python3"
  },
  "language_info": {
   "codemirror_mode": {
    "name": "ipython",
    "version": 3
   },
   "file_extension": ".py",
   "mimetype": "text/x-python",
   "name": "python",
   "nbconvert_exporter": "python",
   "pygments_lexer": "ipython3",
   "version": "3.11.5"
  },
  "orig_nbformat": 4,
  "vscode": {
   "interpreter": {
    "hash": "e469456ab50f34fb1b0d8c2f0e6be357ddfb7f89711293e9bed03b9aa9d67451"
   }
  }
 },
 "nbformat": 4,
 "nbformat_minor": 2
}
