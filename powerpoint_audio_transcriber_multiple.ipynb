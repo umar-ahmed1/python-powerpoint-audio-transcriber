{
 "cells": [
  {
   "cell_type": "code",
   "execution_count": 21,
   "metadata": {},
   "outputs": [],
   "source": [
    "import aspose.slides as slides\n",
    "import os\n",
    "import shutil\n",
    "from pydub import AudioSegment\n",
    "import whisper\n",
    "import glob\n",
    "from reportlab.lib.pagesizes import letter\n",
    "from reportlab.pdfgen import canvas\n",
    "from reportlab.lib import colors\n",
    "from reportlab.lib.styles import getSampleStyleSheet, ParagraphStyle\n",
    "from reportlab.platypus import SimpleDocTemplate, Paragraph, Spacer\n",
    "from aspose.slides import AudioFrame\n",
    "\n",
    "AudioSegment.converter = \"C:\\\\PATH_Programs\\\\ffmpeg.exe\"\n",
    "AudioSegment.ffmpeg = \"C:\\\\PATH_Programs\\\\ffmpeg.exe\"\n",
    "AudioSegment.ffprobe =\"C:\\\\PATH_Programs\\\\ffprobe.exe\""
   ]
  },
  {
   "cell_type": "code",
   "execution_count": 22,
   "metadata": {},
   "outputs": [],
   "source": [
    "presentations_folder = \"presentations\"\n",
    "if not os.path.exists(presentations_folder):\n",
    "    os.makedirs(presentations_folder)\n",
    "\n",
    "transcriptions_folder = \"transcriptions\"\n",
    "if not os.path.exists(transcriptions_folder):\n",
    "    os.makedirs(transcriptions_folder)"
   ]
  },
  {
   "cell_type": "code",
   "execution_count": 23,
   "metadata": {},
   "outputs": [],
   "source": [
    "temp_folder = \"audio_files\"\n",
    "\n",
    "# Delete the output folder if it exists so it empties\n",
    "if os.path.exists(temp_folder):\n",
    "    shutil.rmtree(temp_folder)\n",
    "\n",
    "# Create the output folder if it doesn't exist (should run everytime)\n",
    "if not os.path.exists(temp_folder):\n",
    "    os.makedirs(temp_folder)"
   ]
  },
  {
   "cell_type": "code",
   "execution_count": 25,
   "metadata": {},
   "outputs": [],
   "source": [
    "ppt_files = glob.glob(presentations_folder + \"/*.pptx\")"
   ]
  },
  {
   "cell_type": "code",
   "execution_count": 26,
   "metadata": {},
   "outputs": [],
   "source": [
    "#\"tiny\" = 32x speed - worst accuracy\n",
    "#\"base\" = 16x speed - recommended\n",
    "#\"small\" = 6x speed - best accuracy\n",
    "model_type = \"small\"\n",
    "model = whisper.load_model(model_type)"
   ]
  },
  {
   "cell_type": "code",
   "execution_count": 28,
   "metadata": {},
   "outputs": [],
   "source": [
    "def create_pdf(results, output_file):\n",
    "    # Create a PDF document\n",
    "    doc = SimpleDocTemplate(output_file, pagesize=letter)\n",
    "\n",
    "    # Define styles for paragraphs\n",
    "    styles = getSampleStyleSheet()\n",
    "    style = styles[\"Normal\"]\n",
    "\n",
    "    # Add each result as a paragraph to the document\n",
    "    paragraphs = []\n",
    "    for result in results:\n",
    "        # Add the result as a paragraph to the document\n",
    "        p = Paragraph(result.strip(), style)\n",
    "        paragraphs.append(p)\n",
    "        \n",
    "        # Add a single line break to separate items\n",
    "        paragraphs.append(Spacer(1, 12))  # Adjust the second argument to control the spacing\n",
    "\n",
    "    # Build the PDF document\n",
    "    doc.build(paragraphs)"
   ]
  },
  {
   "cell_type": "code",
   "execution_count": 33,
   "metadata": {},
   "outputs": [
    {
     "name": "stdout",
     "output_type": "stream",
     "text": [
      "Downloaded Lecture 10_Corporate Culture audios to audio_files\n",
      "Transcribing Lecture 10_Corporate Culture audios\n",
      "PDF created for presentation presentations\\Lecture 10_Corporate Culture.pptx: transcriptions/Lecture 10_Corporate Culture.pdf\n",
      "Downloaded Lecture 11_Changing Corporate Culture audios to audio_files\n",
      "Transcribing Lecture 11_Changing Corporate Culture audios\n",
      "PDF created for presentation presentations\\Lecture 11_Changing Corporate Culture.pptx: transcriptions/Lecture 11_Changing Corporate Culture.pdf\n",
      "Downloaded Lecture 1_Intro Business Anth audios to audio_files\n",
      "Transcribing Lecture 1_Intro Business Anth audios\n",
      "PDF created for presentation presentations\\Lecture 1_Intro Business Anth.pptx: transcriptions/Lecture 1_Intro Business Anth.pdf\n",
      "Downloaded Lecture 2_Culture Concept audios to audio_files\n",
      "Transcribing Lecture 2_Culture Concept audios\n",
      "PDF created for presentation presentations\\Lecture 2_Culture Concept.pptx: transcriptions/Lecture 2_Culture Concept.pdf\n",
      "Downloaded Lecture 3_Methods in Business Anthropology audios to audio_files\n",
      "Transcribing Lecture 3_Methods in Business Anthropology audios\n",
      "PDF created for presentation presentations\\Lecture 3_Methods in Business Anthropology.pptx: transcriptions/Lecture 3_Methods in Business Anthropology.pdf\n",
      "Downloaded Lecture 4_History part 1 audios to audio_files\n",
      "Transcribing Lecture 4_History part 1 audios\n",
      "PDF created for presentation presentations\\Lecture 4_History part 1.pptx: transcriptions/Lecture 4_History part 1.pdf\n",
      "Downloaded Lecture 5_History of Business Anthropology Part 2 audios to audio_files\n",
      "Transcribing Lecture 5_History of Business Anthropology Part 2 audios\n",
      "PDF created for presentation presentations\\Lecture 5_History of Business Anthropology Part 2.pptx: transcriptions/Lecture 5_History of Business Anthropology Part 2.pdf\n",
      "Downloaded Lecture 6_Research Ethics audios to audio_files\n",
      "Transcribing Lecture 6_Research Ethics audios\n",
      "PDF created for presentation presentations\\Lecture 6_Research Ethics.pptx: transcriptions/Lecture 6_Research Ethics.pdf\n",
      "Downloaded Lecture 7_Organizational Culture audios to audio_files\n",
      "Transcribing Lecture 7_Organizational Culture audios\n",
      "PDF created for presentation presentations\\Lecture 7_Organizational Culture.pptx: transcriptions/Lecture 7_Organizational Culture.pdf\n",
      "Downloaded Lecture 8_Organizational Culture audios to audio_files\n",
      "Transcribing Lecture 8_Organizational Culture audios\n",
      "PDF created for presentation presentations\\Lecture 8_Organizational Culture.pptx: transcriptions/Lecture 8_Organizational Culture.pdf\n",
      "Downloaded Lecture 9_Organizational Culture audios to audio_files\n",
      "Transcribing Lecture 9_Organizational Culture audios\n",
      "PDF created for presentation presentations\\Lecture 9_Organizational Culture.pptx: transcriptions/Lecture 9_Organizational Culture.pdf\n"
     ]
    }
   ],
   "source": [
    "for ppt in ppt_files:\n",
    "    # Delete the output folder if it exists so it empties\n",
    "    if os.path.exists(temp_folder):\n",
    "        shutil.rmtree(temp_folder)\n",
    "    # Create the output folder if it doesn't exist (should run everytime)\n",
    "    if not os.path.exists(temp_folder):\n",
    "        os.makedirs(temp_folder)\n",
    "    \n",
    "    #input powerpoint presentation name\n",
    "    parts = ppt.split('.')\n",
    "    part_without_extension = parts[0]\n",
    "    parts = part_without_extension.split('\\\\')\n",
    "    final_name = parts[1]\n",
    "    output_name = \"transcriptions/\" + final_name + \".pdf\"\n",
    "\n",
    "    #main code\n",
    "    with slides.Presentation(ppt) as presentation:\n",
    "        for index, audio in enumerate(presentation.audios):\n",
    "            audio_data = audio.binary_data\n",
    "            content_type = audio.content_type\n",
    "            file_extension = content_type.split(\"/\")[-1]  # Get the file extension from content type\n",
    "            \n",
    "            # Construct the file name\n",
    "            file_name = f\"audio_{index + 1}.{file_extension}\"\n",
    "            \n",
    "            # Write the binary audio data to a file\n",
    "            with open(os.path.join(temp_folder, file_name), \"wb\") as file:\n",
    "                file.write(audio_data)\n",
    "            \n",
    "        print(f\"Downloaded {final_name} audios to {temp_folder}\")\n",
    "    \n",
    "    print(f\"Transcribing {final_name} audios\")\n",
    "    results = []\n",
    "    audio_files = [f for f in os.listdir(temp_folder) if os.path.isfile(os.path.join(temp_folder, f))]\n",
    "    for file in audio_files:\n",
    "        result = model.transcribe(os.path.join(temp_folder,file))\n",
    "        res_text = result.get(\"text\")\n",
    "        results.append(res_text)\n",
    "\n",
    "    #create the pdf\n",
    "    create_pdf(results, output_name)\n",
    "    print(f\"PDF created for {final_name}: {output_name}\\n\")\n",
    "    print(\"------------------------------------------------------\")"
   ]
  }
 ],
 "metadata": {
  "kernelspec": {
   "display_name": "Python 3",
   "language": "python",
   "name": "python3"
  },
  "language_info": {
   "codemirror_mode": {
    "name": "ipython",
    "version": 3
   },
   "file_extension": ".py",
   "mimetype": "text/x-python",
   "name": "python",
   "nbconvert_exporter": "python",
   "pygments_lexer": "ipython3",
   "version": "3.11.5 (tags/v3.11.5:cce6ba9, Aug 24 2023, 14:38:34) [MSC v.1936 64 bit (AMD64)]"
  },
  "orig_nbformat": 4,
  "vscode": {
   "interpreter": {
    "hash": "e469456ab50f34fb1b0d8c2f0e6be357ddfb7f89711293e9bed03b9aa9d67451"
   }
  }
 },
 "nbformat": 4,
 "nbformat_minor": 2
}
